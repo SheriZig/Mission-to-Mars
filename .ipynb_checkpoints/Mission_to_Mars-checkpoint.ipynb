{
 "cells": [
  {
   "cell_type": "markdown",
   "id": "e432e5d3",
   "metadata": {},
   "source": [
    "# Set up Splinter and Beautiful Soup\n"
   ]
  },
  {
   "cell_type": "code",
   "execution_count": 1,
   "id": "7524246c",
   "metadata": {},
   "outputs": [],
   "source": [
    "# Import Splinter and BeautifulSoup\n",
    "from splinter import Browser\n",
    "from bs4 import BeautifulSoup as soup\n",
    "from webdriver_manager.chrome import ChromeDriverManager\n",
    "\n",
    "# Import Pandas\n",
    "import pandas as pd"
   ]
  },
  {
   "cell_type": "markdown",
   "id": "0d583b45",
   "metadata": {},
   "source": [
    "## set up Chrome "
   ]
  },
  {
   "cell_type": "code",
   "execution_count": 2,
   "id": "550f364f",
   "metadata": {},
   "outputs": [
    {
     "name": "stderr",
     "output_type": "stream",
     "text": [
      "[WDM] - \n",
      "\n",
      "[WDM] - ====== WebDriver manager ======\n",
      "[WDM] - Current google-chrome version is 95.0.4638\n",
      "[WDM] - Get LATEST driver version for 95.0.4638\n",
      "[WDM] - Driver [C:\\Users\\szieg\\.wdm\\drivers\\chromedriver\\win32\\95.0.4638.54\\chromedriver.exe] found in cache\n"
     ]
    }
   ],
   "source": [
    "#headless=false means that all of the browsers actions will be displayed\n",
    "# in a Chrome Window so we can see them\n",
    "\n",
    "executable_path = {'executable_path': ChromeDriverManager().install()}\n",
    "browser = Browser('chrome', **executable_path, headless=False)"
   ]
  },
  {
   "cell_type": "markdown",
   "id": "cc58ed27",
   "metadata": {},
   "source": [
    "## set up site to scrape"
   ]
  },
  {
   "cell_type": "code",
   "execution_count": 3,
   "id": "26080ed1",
   "metadata": {},
   "outputs": [],
   "source": [
    "# With the following line, browser.is_element_present_by_css('div.list_text', wait_time=1), \n",
    "# we are accomplishing two things.\n",
    "\n",
    "# One is that we're searching for elements with a specific combination\n",
    "# of tag (div) and attribute (list_text). As an example, \n",
    "# ul.item_list would be found in HTML as <ul class=\"item_list\">.\n",
    "\n",
    "# Secondly, we're also telling our browser to wait one second before searching for components.\n",
    "# The optional delay is useful because sometimes dynamic pages take a little while to load, \n",
    "# especially if they are image-heavy."
   ]
  },
  {
   "cell_type": "code",
   "execution_count": 4,
   "id": "31c48ef5",
   "metadata": {},
   "outputs": [
    {
     "data": {
      "text/plain": [
       "True"
      ]
     },
     "execution_count": 4,
     "metadata": {},
     "output_type": "execute_result"
    }
   ],
   "source": [
    "# Visit the mars nasa news site\n",
    "url = 'https://redplanetscience.com'\n",
    "browser.visit(url)\n",
    "# Optional delay for loading the page\n",
    "browser.is_element_present_by_css('div.list_text', wait_time=1)"
   ]
  },
  {
   "cell_type": "markdown",
   "id": "d276e7c5",
   "metadata": {},
   "source": [
    "## Set up HTML parser/slide_elem"
   ]
  },
  {
   "cell_type": "code",
   "execution_count": 5,
   "id": "aafd7fe9",
   "metadata": {},
   "outputs": [],
   "source": [
    "html = browser.html\n",
    "news_soup = soup(html, 'html.parser')\n",
    "slide_elem = news_soup.select_one('div.list_text')"
   ]
  },
  {
   "cell_type": "code",
   "execution_count": 6,
   "id": "a99d5439",
   "metadata": {},
   "outputs": [],
   "source": [
    "# Notice how we've assigned slide_elem as the variable to look for the <div /> tag \n",
    "# and its descendent (the other tags within the <div /> element)? \n",
    "# This is our parent element. This means that this element holds all of the other elements\n",
    "# within it, and we'll reference it when we want to filter search results even further.\n",
    "# The . is used for selecting classes, such as list_text, so the code 'div.list_text' \n",
    "# pinpoints the <div /> tag with the class of list_text. \n",
    "\n",
    "# CSS works from right to left, such as returning the last item on the list \n",
    "# instead of the first. Because of this, when using select_one, the first matching \n",
    "# element returned will be a <li /> element with a class of slide and\n",
    "# all nested elements within it.\n",
    "\n"
   ]
  },
  {
   "cell_type": "markdown",
   "id": "f1805d8e",
   "metadata": {},
   "source": [
    "# Create Variables for Title and Summary Text"
   ]
  },
  {
   "cell_type": "code",
   "execution_count": 7,
   "id": "35a26952",
   "metadata": {},
   "outputs": [
    {
     "data": {
      "text/plain": [
       "<div class=\"content_title\">NASA's Mars 2020 Comes Full Circle</div>"
      ]
     },
     "execution_count": 7,
     "metadata": {},
     "output_type": "execute_result"
    }
   ],
   "source": [
    "# will go to slide_elem (above) for div.list_text\n",
    "# then look at div and content title\n",
    "\n",
    "# This variable holds a ton of information, so look inside of that information\n",
    "# to find this specific data.\" The data we're looking for is the content title, \n",
    "# which we've specified by saying, \n",
    "# \"The specific data is in a <div /> with a class of 'content_title'.\"\n",
    "\n",
    "slide_elem.find('div', class_='content_title')\n"
   ]
  },
  {
   "cell_type": "code",
   "execution_count": 8,
   "id": "d44a4f60",
   "metadata": {},
   "outputs": [
    {
     "data": {
      "text/plain": [
       "\"NASA's Mars 2020 Comes Full Circle\""
      ]
     },
     "execution_count": 8,
     "metadata": {},
     "output_type": "execute_result"
    }
   ],
   "source": [
    "#We can see that the output from above gives us the title and the HTML \n",
    "# but we only want the text of the title\n",
    "# use GET_TEXT method to only retrieve the text\n",
    "\n",
    "# Use the parent element to find the first `a` tag and save it as `news_title`\n",
    "news_title = slide_elem.find('div', class_='content_title').get_text()\n",
    "news_title"
   ]
  },
  {
   "cell_type": "code",
   "execution_count": 9,
   "id": "ca893fb4",
   "metadata": {},
   "outputs": [],
   "source": [
    "# NOTE ON PULLING IN THE SUMMARY OF THE ARTICLE\n",
    "# IT IS OKAY THAT THE CLASS IS IN THE HTML MULTIPLE TIMES\n",
    "# If we dig deeper into the code selections, we would return a SPECIFIC\n",
    "# article and we want to retireve the FIRST article\n"
   ]
  },
  {
   "cell_type": "markdown",
   "id": "9053505d",
   "metadata": {},
   "source": [
    "## .find( ) vs .find_all ( )"
   ]
  },
  {
   "cell_type": "code",
   "execution_count": 10,
   "id": "21060daf",
   "metadata": {},
   "outputs": [],
   "source": [
    "# There are two methods used to find tags and attributes with BeautifulSoup:\n",
    "\n",
    "# .find() is used when we want only the first class and attribute we've specified.\n",
    "# .find_all() is used when we want to retrieve all of the tags and attributes.\n",
    "\n",
    "# For example, if we were to use .find_all() instead of .find() when pulling the summary,\n",
    "# we would retrieve all of the summaries on the page instead of just the first one."
   ]
  },
  {
   "cell_type": "code",
   "execution_count": 11,
   "id": "37381a4b",
   "metadata": {},
   "outputs": [
    {
     "data": {
      "text/plain": [
       "\"Aiming to pinpoint the Martian vehicle's center of gravity, engineers took NASA's 2,300-pound Mars 2020 rover for a spin in the clean room at JPL. \""
      ]
     },
     "execution_count": 11,
     "metadata": {},
     "output_type": "execute_result"
    }
   ],
   "source": [
    "# Same as finding title except from a different class\n",
    "# Use the parent element to find the paragraph text\n",
    "news_p = slide_elem.find('div', class_='article_teaser_body').get_text()\n",
    "news_p"
   ]
  },
  {
   "cell_type": "markdown",
   "id": "a4122128",
   "metadata": {},
   "source": [
    "# Retrieve Images"
   ]
  },
  {
   "cell_type": "code",
   "execution_count": 12,
   "id": "2e414f1b",
   "metadata": {},
   "outputs": [],
   "source": [
    "# Visit URL\n",
    "url = 'https://spaceimages-mars.com'\n",
    "browser.visit(url)"
   ]
  },
  {
   "cell_type": "code",
   "execution_count": 13,
   "id": "18c2bce9",
   "metadata": {},
   "outputs": [],
   "source": [
    "#Variable 'full_image_elem' to old the data returned by find_by_tag\n",
    "# Find the tag 'button'\n",
    "# Run the variable which will find the Full Image button and click it\n",
    "# Find and click the full image button\n",
    "full_image_elem = browser.find_by_tag('button')[1]\n",
    "full_image_elem.click()"
   ]
  },
  {
   "cell_type": "code",
   "execution_count": 14,
   "id": "51a43f41",
   "metadata": {},
   "outputs": [],
   "source": [
    "# Parse the resulting html with soup\n",
    "html = browser.html\n",
    "img_soup = soup(html, 'html.parser')"
   ]
  },
  {
   "cell_type": "code",
   "execution_count": 15,
   "id": "6b6aa7e0",
   "metadata": {},
   "outputs": [
    {
     "data": {
      "text/plain": [
       "'image/featured/mars2.jpg'"
      ]
     },
     "execution_count": 15,
     "metadata": {},
     "output_type": "execute_result"
    }
   ],
   "source": [
    "# Find the relative image url for this image. The image will be different each time\n",
    "# the page is loaded so we want to retrieve \n",
    "#whichever image is displayed (relative image url)\n",
    "\n",
    "# Tell BeautifulSoup to look inside the <img /> tag for an image with\n",
    "# a class of fancybox-image. Basically we're saying, \"\n",
    "# This is where the image we want lives—use the link that's inside these tag\n",
    "\n",
    "img_url_rel = img_soup.find('img', class_='fancybox-image').get('src')\n",
    "img_url_rel"
   ]
  },
  {
   "cell_type": "code",
   "execution_count": 16,
   "id": "0da033f0",
   "metadata": {},
   "outputs": [
    {
     "data": {
      "text/plain": [
       "'https://spaceimages-mars.com/image/featured/mars2.jpg'"
      ]
     },
     "execution_count": 16,
     "metadata": {},
     "output_type": "execute_result"
    }
   ],
   "source": [
    "# the code above is not all that's needed. We also need the 'base url'\n",
    "# Base URL = url that directs to the site\n",
    "\n",
    "# img_url is the text for the base url plus the image returned from the code above for \n",
    "# img_url_rel\n",
    "\n",
    "#Use the base URL to create an absolute URL\n",
    "# Use the base URL to create an absolute URL\n",
    "img_url = f'https://spaceimages-mars.com/{img_url_rel}'\n",
    "img_url"
   ]
  },
  {
   "cell_type": "markdown",
   "id": "a354eaef",
   "metadata": {},
   "source": [
    "# Collection of facts from a table"
   ]
  },
  {
   "cell_type": "code",
   "execution_count": 17,
   "id": "1f1fe955",
   "metadata": {},
   "outputs": [],
   "source": [
    "# Visit URL\n",
    "url = 'https://galaxyfacts-mars.com/'\n",
    "browser.visit(url)"
   ]
  },
  {
   "cell_type": "code",
   "execution_count": 18,
   "id": "3af8d026",
   "metadata": {},
   "outputs": [],
   "source": [
    "#NOTES on RETRIEVING a TABLE\n",
    "# TAG <table/> is the main container for the table\n",
    "# TAG <tbody /> is the body of the table (headers, columns, rows)\n",
    "# TAG <tr /> is the tag for each table ROW\n",
    "# TAG <td /> is the information in the COLUMN\n",
    "\n",
    "# Use Pandas' .read_html() funtion to read ENTIRE TABLE\n",
    "# Don't forget to import pandas as pd"
   ]
  },
  {
   "attachments": {
    "NoteTableElementsHTML.png": {
     "image/png": "[encoded data removed]"
    }
   },
   "cell_type": "markdown",
   "id": "3cff8d60",
   "metadata": {},
   "source": [
    "![NoteTableElementsHTML.png](attachment:NoteTableElementsHTML.png)"
   ]
  },
  {
   "cell_type": "markdown",
   "id": "b6877b0d",
   "metadata": {},
   "source": [
    "## Create dataframe for table"
   ]
  },
  {
   "cell_type": "code",
   "execution_count": 25,
   "id": "f9613f8e",
   "metadata": {
    "scrolled": true
   },
   "outputs": [
    {
     "data": {
      "text/html": [
       "<div>\n",
       "<style scoped>\n",
       "    .dataframe tbody tr th:only-of-type {\n",
       "        vertical-align: middle;\n",
       "    }\n",
       "\n",
       "    .dataframe tbody tr th {\n",
       "        vertical-align: top;\n",
       "    }\n",
       "\n",
       "    .dataframe thead th {\n",
       "        text-align: right;\n",
       "    }\n",
       "</style>\n",
       "<table border=\"1\" class=\"dataframe\">\n",
       "  <thead>\n",
       "    <tr style=\"text-align: right;\">\n",
       "      <th></th>\n",
       "      <th>Mars</th>\n",
       "      <th>Earth</th>\n",
       "    </tr>\n",
       "    <tr>\n",
       "      <th>description</th>\n",
       "      <th></th>\n",
       "      <th></th>\n",
       "    </tr>\n",
       "  </thead>\n",
       "  <tbody>\n",
       "    <tr>\n",
       "      <th>Mars - Earth Comparison</th>\n",
       "      <td>Mars</td>\n",
       "      <td>Earth</td>\n",
       "    </tr>\n",
       "    <tr>\n",
       "      <th>Diameter:</th>\n",
       "      <td>6,779 km</td>\n",
       "      <td>12,742 km</td>\n",
       "    </tr>\n",
       "    <tr>\n",
       "      <th>Mass:</th>\n",
       "      <td>6.39 × 10^23 kg</td>\n",
       "      <td>5.97 × 10^24 kg</td>\n",
       "    </tr>\n",
       "    <tr>\n",
       "      <th>Moons:</th>\n",
       "      <td>2</td>\n",
       "      <td>1</td>\n",
       "    </tr>\n",
       "    <tr>\n",
       "      <th>Distance from Sun:</th>\n",
       "      <td>227,943,824 km</td>\n",
       "      <td>149,598,262 km</td>\n",
       "    </tr>\n",
       "    <tr>\n",
       "      <th>Length of Year:</th>\n",
       "      <td>687 Earth days</td>\n",
       "      <td>365.24 days</td>\n",
       "    </tr>\n",
       "    <tr>\n",
       "      <th>Temperature:</th>\n",
       "      <td>-87 to -5 °C</td>\n",
       "      <td>-88 to 58°C</td>\n",
       "    </tr>\n",
       "  </tbody>\n",
       "</table>\n",
       "</div>"
      ],
      "text/plain": [
       "                                    Mars            Earth\n",
       "description                                              \n",
       "Mars - Earth Comparison             Mars            Earth\n",
       "Diameter:                       6,779 km        12,742 km\n",
       "Mass:                    6.39 × 10^23 kg  5.97 × 10^24 kg\n",
       "Moons:                                 2                1\n",
       "Distance from Sun:        227,943,824 km   149,598,262 km\n",
       "Length of Year:           687 Earth days      365.24 days\n",
       "Temperature:                -87 to -5 °C      -88 to 58°C"
      ]
     },
     "execution_count": 25,
     "metadata": {},
     "output_type": "execute_result"
    }
   ],
   "source": [
    "#df =pd.read_html(https://.....) reads the site that contains the data\n",
    "# and turns it into a dataframe\n",
    "#df.columns= ['description', 'Mars', 'Earch'] We assign column names\n",
    "# df.set_index('description', inplace=True) makes description the DF index\n",
    "# inplace=True means that the updated index will remain in plase, \n",
    "# without having to reassign the DataFrame to a new variable.\n",
    "\n",
    "df = pd.read_html('https://galaxyfacts-mars.com')[0]\n",
    "df.columns=['description', 'Mars', 'Earth']\n",
    "df.set_index('description', inplace=True)\n",
    "df\n"
   ]
  },
  {
   "cell_type": "code",
   "execution_count": 26,
   "id": "f8bc3c00",
   "metadata": {},
   "outputs": [],
   "source": [
    "browser.quit()"
   ]
  },
  {
   "cell_type": "markdown",
   "id": "6c1d011b",
   "metadata": {},
   "source": [
    "# Convert to a Python file (.py)"
   ]
  },
  {
   "cell_type": "code",
   "execution_count": null,
   "id": "857bfadb",
   "metadata": {},
   "outputs": [],
   "source": [
    "# Jupyter notebook can be used when developing the web scraping\n",
    "# however, it cannot be used to automate the proces\n",
    "# therefore, we must convert the code to a py file"
   ]
  }
 ],
 "metadata": {
  "kernelspec": {
   "display_name": "PythonData",
   "language": "python",
   "name": "pythondata"
  },
  "language_info": {
   "codemirror_mode": {
    "name": "ipython",
    "version": 3
   },
   "file_extension": ".py",
   "mimetype": "text/x-python",
   "name": "python",
   "nbconvert_exporter": "python",
   "pygments_lexer": "ipython3",
   "version": "3.7.10"
  }
 },
 "nbformat": 4,
 "nbformat_minor": 5
}
